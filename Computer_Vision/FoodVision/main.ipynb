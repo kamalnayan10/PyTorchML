{
 "cells": [
  {
   "cell_type": "code",
   "execution_count": 6,
   "metadata": {},
   "outputs": [],
   "source": [
    "import torch \n",
    "from torch import nn\n",
    "from torch.utils.data import DataLoader\n",
    "from torchvision import datasets, transforms\n",
    "\n",
    "import os\n",
    "from pathlib import Path\n",
    "\n",
    "from PIL import Image\n",
    "import random\n",
    "import numpy as np"
   ]
  },
  {
   "cell_type": "code",
   "execution_count": 2,
   "metadata": {},
   "outputs": [
    {
     "data": {
      "text/plain": [
       "'cuda'"
      ]
     },
     "execution_count": 2,
     "metadata": {},
     "output_type": "execute_result"
    }
   ],
   "source": [
    "device = \"cuda\" if torch.cuda.is_available() else \"cpu\"\n",
    "device"
   ]
  },
  {
   "cell_type": "markdown",
   "metadata": {},
   "source": [
    "## GETTING DATA"
   ]
  },
  {
   "cell_type": "code",
   "execution_count": 3,
   "metadata": {},
   "outputs": [
    {
     "name": "stdout",
     "output_type": "stream",
     "text": [
      "There are 2 directories , 0 files in D:\\PROGRAMMING\\PYTHON\\dataset\\pizza_steak_sushi\n",
      "There are 3 directories , 0 files in D:\\PROGRAMMING\\PYTHON\\dataset\\pizza_steak_sushi\\test\n",
      "There are 0 directories , 25 files in D:\\PROGRAMMING\\PYTHON\\dataset\\pizza_steak_sushi\\test\\pizza\n",
      "There are 0 directories , 19 files in D:\\PROGRAMMING\\PYTHON\\dataset\\pizza_steak_sushi\\test\\steak\n",
      "There are 0 directories , 31 files in D:\\PROGRAMMING\\PYTHON\\dataset\\pizza_steak_sushi\\test\\sushi\n",
      "There are 3 directories , 0 files in D:\\PROGRAMMING\\PYTHON\\dataset\\pizza_steak_sushi\\train\n",
      "There are 0 directories , 78 files in D:\\PROGRAMMING\\PYTHON\\dataset\\pizza_steak_sushi\\train\\pizza\n",
      "There are 0 directories , 75 files in D:\\PROGRAMMING\\PYTHON\\dataset\\pizza_steak_sushi\\train\\steak\n",
      "There are 0 directories , 72 files in D:\\PROGRAMMING\\PYTHON\\dataset\\pizza_steak_sushi\\train\\sushi\n"
     ]
    }
   ],
   "source": [
    "DATA_PATH = Path(\"D:/PROGRAMMING/PYTHON/dataset/pizza_steak_sushi\")\n",
    "\n",
    "TRAIN_PATH = DATA_PATH / \"train\"\n",
    "TEST_PATH = DATA_PATH / \"test\"\n",
    "\n",
    "def walk_through_dir(dir_path):\n",
    "\n",
    "    for dirpath , dirname , filenames in os.walk(dir_path):\n",
    "        print(f'There are {len(dirname)} directories , {len(filenames)} files in {dirpath}')\n",
    "\n",
    "walk_through_dir(DATA_PATH)"
   ]
  },
  {
   "cell_type": "code",
   "execution_count": 12,
   "metadata": {},
   "outputs": [
    {
     "name": "stdout",
     "output_type": "stream",
     "text": [
      "\n",
      "    Random Image Path: D:\\PROGRAMMING\\PYTHON\\dataset\\pizza_steak_sushi\\train\\steak\\1225762.jpg,\n",
      "    Image Class: steak,\n",
      "    Image Height: 512,\n",
      "    Image Width: 289\n",
      "\n",
      "<PIL.JpegImagePlugin.JpegImageFile image mode=RGB size=289x512 at 0x298D55BFA10>\n"
     ]
    }
   ],
   "source": [
    "# random.seed(42)\n",
    "img_path_list = list(DATA_PATH.glob(\"*/*/*.jpg\"))\n",
    "\n",
    "random_img = random.choice(img_path_list)\n",
    "img_class = random_img.parent.stem\n",
    "\n",
    "img = Image.open(random_img)\n",
    "print(f\"\"\"\n",
    "    Random Image Path: {random_img},\n",
    "    Image Class: {img_class},\n",
    "    Image Height: {img.height},\n",
    "    Image Width: {img.width}\n",
    "\"\"\")\n",
    "\n",
    "img_np_array = np.array(img)\n",
    "img"
   ]
  },
  {
   "cell_type": "markdown",
   "metadata": {},
   "source": [
    "## TRANSFORMING DATA"
   ]
  },
  {
   "cell_type": "code",
   "execution_count": 11,
   "metadata": {},
   "outputs": [
    {
     "data": {
      "text/plain": [
       "torch.Size([3, 64, 64])"
      ]
     },
     "execution_count": 11,
     "metadata": {},
     "output_type": "execute_result"
    }
   ],
   "source": [
    "data_transform = transforms.Compose([\n",
    "    transforms.Resize(size = (64,64)),\n",
    "\n",
    "    transforms.RandomHorizontalFlip(p = 0.5),\n",
    "\n",
    "    transforms.ToTensor()\n",
    "])\n",
    "\n",
    "data_transform(img).shape\n"
   ]
  },
  {
   "cell_type": "code",
   "execution_count": null,
   "metadata": {},
   "outputs": [],
   "source": []
  }
 ],
 "metadata": {
  "kernelspec": {
   "display_name": "torchenv",
   "language": "python",
   "name": "python3"
  },
  "language_info": {
   "codemirror_mode": {
    "name": "ipython",
    "version": 3
   },
   "file_extension": ".py",
   "mimetype": "text/x-python",
   "name": "python",
   "nbconvert_exporter": "python",
   "pygments_lexer": "ipython3",
   "version": "3.11.4"
  },
  "orig_nbformat": 4
 },
 "nbformat": 4,
 "nbformat_minor": 2
}
