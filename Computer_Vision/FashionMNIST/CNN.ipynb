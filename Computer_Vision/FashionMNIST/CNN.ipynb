{
 "cells": [
  {
   "cell_type": "code",
   "execution_count": 1,
   "metadata": {},
   "outputs": [
    {
     "name": "stderr",
     "output_type": "stream",
     "text": [
      "Enabling notebook extension jupyter-js-widgets/extension...\n",
      "      - Validating: ok\n"
     ]
    }
   ],
   "source": [
    "import torch\n",
    "from torch import nn\n",
    "from torch.utils.data import DataLoader\n",
    "\n",
    "import torchvision\n",
    "from torchvision import datasets\n",
    "from torchvision.transforms import ToTensor\n",
    "\n",
    "import matplotlib.pyplot as plt\n",
    "\n",
    "from tqdm.notebook import tqdm\n",
    "\n",
    "!jupyter nbextension enable --py widgetsnbextension"
   ]
  },
  {
   "cell_type": "markdown",
   "metadata": {},
   "source": [
    "## HELPER FUNCTIONS"
   ]
  },
  {
   "cell_type": "code",
   "execution_count": 2,
   "metadata": {},
   "outputs": [],
   "source": [
    "def accuracy_fn(y_true, y_pred):\n",
    "    \"\"\"Calculates accuracy between truth labels and predictions.\n",
    "\n",
    "    Args:\n",
    "        y_true (torch.Tensor): Truth labels for predictions.\n",
    "        y_pred (torch.Tensor): Predictions to be compared to predictions.\n",
    "\n",
    "    Returns:\n",
    "        [torch.float]: Accuracy value between y_true and y_pred, e.g. 78.45\n",
    "    \"\"\"\n",
    "    correct = torch.eq(y_true, y_pred).sum().item()\n",
    "    acc = (correct / len(y_pred)) * 100\n",
    "    return acc\n",
    "\n",
    "def eval_model(model, data_loader, loss_fn, accuracy_fn,\n",
    "               device):\n",
    "\n",
    "    loss, acc = 0, 0\n",
    "    model.eval()\n",
    "    with torch.inference_mode():\n",
    "        for X, y in data_loader:\n",
    "            X, y = X.to(device), y.to(device)\n",
    "            y_pred = model(X)\n",
    "            loss += loss_fn(y_pred, y)\n",
    "            acc += accuracy_fn(y_true=y, y_pred=y_pred.argmax(dim=1))\n",
    "        \n",
    "        # Scale loss and acc\n",
    "        loss /= len(data_loader)\n",
    "        acc /= len(data_loader)\n",
    "    return {\"model_name\": model.__class__.__name__, # only works when model was created with a class\n",
    "            \"model_loss\": loss.item(),\n",
    "            \"model_acc\": acc}"
   ]
  },
  {
   "cell_type": "markdown",
   "metadata": {},
   "source": [
    "## DATASET"
   ]
  },
  {
   "cell_type": "code",
   "execution_count": 3,
   "metadata": {},
   "outputs": [],
   "source": [
    "train_data = datasets.FashionMNIST(\n",
    "    root=\"data\", # where to download data to?\n",
    "    train=True, # get training data\n",
    "    download=True, # download data if it doesn't exist on disk\n",
    "    transform=ToTensor(), # images come as PIL format, we want to turn into Torch tensors\n",
    "    target_transform=None # you can transform labels as well\n",
    ")\n",
    "\n",
    "# Setup testing data\n",
    "test_data = datasets.FashionMNIST(\n",
    "    root=\"data\",\n",
    "    train=False, # get test data\n",
    "    download=True,\n",
    "    transform=ToTensor()\n",
    ")\n",
    "\n",
    "class_names = train_data.classes\n",
    "\n",
    "BATCH_SIZE = 32\n",
    "\n",
    "# Turn datasets into iterables (batches)\n",
    "train_dataloader = DataLoader(train_data, # dataset to turn into iterable\n",
    "    batch_size=BATCH_SIZE, # how many samples per batch? \n",
    "    shuffle=True # shuffle data every epoch?\n",
    ")\n",
    "\n",
    "test_dataloader = DataLoader(test_data,\n",
    "    batch_size=BATCH_SIZE,\n",
    "    shuffle=False # don't necessarily have to shuffle the testing data\n",
    ")\n",
    "\n",
    "img , img_label = train_data[0]"
   ]
  },
  {
   "cell_type": "code",
   "execution_count": 4,
   "metadata": {},
   "outputs": [
    {
     "data": {
      "text/plain": [
       "'cuda'"
      ]
     },
     "execution_count": 4,
     "metadata": {},
     "output_type": "execute_result"
    }
   ],
   "source": [
    "device = \"cuda\" if torch.cuda.is_available() else \"cpu\"\n",
    "device"
   ]
  },
  {
   "cell_type": "markdown",
   "metadata": {},
   "source": [
    "## TRAINING/TESTING FUNCTION"
   ]
  },
  {
   "cell_type": "code",
   "execution_count": 5,
   "metadata": {},
   "outputs": [],
   "source": [
    "def train_step(model , dataloader , loss_fn , optimizer , accuracy_fn , device):\n",
    "\n",
    "    train_loss , train_acc = 0 , 0\n",
    "\n",
    "    model.train()\n",
    "\n",
    "    for batch , (X,y) in enumerate(dataloader):\n",
    "        X , y = X.to(device) , y.to(device)\n",
    "\n",
    "        y_pred = model(X)\n",
    "\n",
    "        loss = loss_fn(y_pred , y)\n",
    "\n",
    "        train_loss += loss\n",
    "\n",
    "        train_acc += accuracy_fn(y , y_pred.argmax(dim = 1))\n",
    "\n",
    "        optimizer.zero_grad()\n",
    "\n",
    "        loss.backward()\n",
    "\n",
    "        optimizer.step()\n",
    "\n",
    "    train_loss /= len(dataloader)\n",
    "\n",
    "    train_acc /= len(dataloader)\n",
    "\n",
    "    print(f\"Train Loss: {train_loss:.5f} | Train Acc : {train_acc:.2f}%\")\n",
    "\n",
    "def test_step(model , dataloader , loss_fn , accuracy_fn , device):\n",
    "\n",
    "    test_loss , test_acc = 0 , 0\n",
    "\n",
    "    model.eval()\n",
    "\n",
    "    with torch.inference_mode():\n",
    "        for X,y in dataloader:\n",
    "            X , y = X.to(device) , y.to(device)\n",
    "\n",
    "            test_pred = model(X)\n",
    "\n",
    "            loss = loss_fn(test_pred , y)\n",
    "\n",
    "            test_loss += loss \n",
    "\n",
    "            test_acc += accuracy_fn(y , test_pred.argmax(dim = 1))\n",
    "\n",
    "\n",
    "        test_loss /= len(dataloader)\n",
    "\n",
    "        test_acc /= len(dataloader)\n",
    "\n",
    "        print(f\"Test Loss: {test_loss:.5f} | Test Acc : {test_acc:.2f}%\")\n"
   ]
  },
  {
   "cell_type": "markdown",
   "metadata": {},
   "source": [
    "## BUILDING A CNN MODEL"
   ]
  },
  {
   "cell_type": "code",
   "execution_count": 6,
   "metadata": {},
   "outputs": [],
   "source": [
    "class model_CNN(nn.Module):\n",
    "    def __init__(self , input_shape , hidden_units , output_shape):\n",
    "        super().__init__()\n",
    "\n",
    "        self.conv_block1 = nn.Sequential(\n",
    "            nn.Conv2d(in_channels = input_shape\n",
    "                      , out_channels = hidden_units\n",
    "                      , kernel_size = 3\n",
    "                      , stride = 1\n",
    "                      , padding = 1),\n",
    "            nn.ReLU(),\n",
    "\n",
    "            nn.Conv2d(in_channels = hidden_units\n",
    "                      , out_channels = hidden_units\n",
    "                      , kernel_size = 3\n",
    "                      , stride = 1\n",
    "                      , padding = 1),\n",
    "            nn.ReLU(),\n",
    "            nn.MaxPool2d(kernel_size = 2 \n",
    "                         ,stride = 2)\n",
    "        )\n",
    "\n",
    "        self.conv_block2 = nn.Sequential(\n",
    "            nn.Conv2d(in_channels = hidden_units\n",
    "                      , out_channels = hidden_units\n",
    "                      , kernel_size = 3\n",
    "                      , stride = 1\n",
    "                      , padding = 1),\n",
    "            nn.ReLU(),\n",
    "\n",
    "            nn.Conv2d(in_channels = hidden_units\n",
    "                      , out_channels = hidden_units\n",
    "                      , kernel_size = 3\n",
    "                      , stride = 1\n",
    "                      , padding = 1),\n",
    "            nn.ReLU(),\n",
    "            nn.MaxPool2d(kernel_size = 2\n",
    "                        , stride = 2)\n",
    "        )\n",
    "\n",
    "        self.classifier = nn.Sequential(\n",
    "            nn.Flatten() , \n",
    "\n",
    "            nn.Linear(in_features = hidden_units*7*7 , out_features = output_shape)\n",
    "        )\n",
    "    \n",
    "    def forward(self , X):\n",
    "        X = self.conv_block1(X)\n",
    "\n",
    "        X = self.conv_block2(X)\n",
    "        \n",
    "        return self.classifier(X)"
   ]
  },
  {
   "cell_type": "code",
   "execution_count": 7,
   "metadata": {},
   "outputs": [],
   "source": [
    "torch.manual_seed(42)\n",
    "\n",
    "model = model_CNN(input_shape = 1 , hidden_units = 10 , output_shape = len(class_names)).to(device)\n",
    "\n",
    "loss_fn = nn.CrossEntropyLoss()\n",
    "\n",
    "optimizer = torch.optim.SGD(params = model.parameters() , lr = 0.1)"
   ]
  },
  {
   "cell_type": "code",
   "execution_count": 10,
   "metadata": {},
   "outputs": [
    {
     "data": {
      "application/vnd.jupyter.widget-view+json": {
       "model_id": "6486aee310d34af682a47b8937ab9e4b",
       "version_major": 2,
       "version_minor": 0
      },
      "text/plain": [
       "  0%|          | 0/3 [00:00<?, ?it/s]"
      ]
     },
     "metadata": {},
     "output_type": "display_data"
    },
    {
     "name": "stdout",
     "output_type": "stream",
     "text": [
      "Epoch:1\n",
      "-------------------------\n",
      "Train Loss: 0.29430 | Train Acc : 89.33%\n",
      "Test Loss: 0.31025 | Test Acc : 89.09%\n",
      "Epoch:2\n",
      "-------------------------\n",
      "Train Loss: 0.28117 | Train Acc : 89.84%\n",
      "Test Loss: 0.30470 | Test Acc : 88.59%\n",
      "Epoch:3\n",
      "-------------------------\n",
      "Train Loss: 0.26973 | Train Acc : 90.11%\n",
      "Test Loss: 0.28985 | Test Acc : 89.82%\n"
     ]
    },
    {
     "data": {
      "text/plain": [
       "{'model_name': 'model_CNN',\n",
       " 'model_loss': 0.2898528277873993,\n",
       " 'model_acc': 89.81629392971246}"
      ]
     },
     "execution_count": 10,
     "metadata": {},
     "output_type": "execute_result"
    }
   ],
   "source": [
    "# TRAINING LOOP\n",
    "\n",
    "torch.manual_seed(42)\n",
    "torch.cuda.manual_seed(42)\n",
    "EPOCHS = 3\n",
    "\n",
    "for epoch in tqdm(range(EPOCHS)):\n",
    "    print(f\"Epoch:{epoch+1}\\n-------------------------\")\n",
    "    train_step(model , train_dataloader , loss_fn , optimizer , accuracy_fn , device)\n",
    "    test_step(model , test_dataloader , loss_fn , accuracy_fn , device)\n",
    "\n",
    "evaluation = eval_model(model , test_dataloader , loss_fn , accuracy_fn , device)\n",
    "evaluation"
   ]
  },
  {
   "cell_type": "code",
   "execution_count": 11,
   "metadata": {},
   "outputs": [],
   "source": [
    "def make_predictions(model , data , device):\n",
    "    pred_probs = []\n",
    "\n",
    "    model.to(device)\n",
    "    model.eval()\n",
    "\n",
    "    with torch.inference_mode():\n",
    "        for sample in data:\n",
    "            sample = torch.unsqueeze(sample,dim = 0).to(device)\n",
    "\n",
    "            logits_pred = model(sample)\n",
    "\n",
    "            pred_prob = torch.softmax(logits_pred.squeeze() , dim = 0)\n",
    "\n",
    "            pred_probs.append(pred_prob.cpu())\n",
    "\n",
    "    return torch.stack(pred_probs) "
   ]
  },
  {
   "cell_type": "code",
   "execution_count": 26,
   "metadata": {},
   "outputs": [
    {
     "name": "stdout",
     "output_type": "stream",
     "text": [
      "Accuracy: 100.0\n",
      "\n",
      "\n"
     ]
    },
    {
     "data": {
      "text/plain": [
       "(-0.5, 27.5, 27.5, -0.5)"
      ]
     },
     "execution_count": 26,
     "metadata": {},
     "output_type": "execute_result"
    },
    {
     "data": {
      "image/png": "[encoded data removed]",
      "text/plain": [
       "<Figure size 900x900 with 9 Axes>"
      ]
     },
     "metadata": {},
     "output_type": "display_data"
    }
   ],
   "source": [
    "import random\n",
    "# random.seed(42)\n",
    "\n",
    "test_samples = []\n",
    "test_labels = []\n",
    "\n",
    "# PREDICTING LABELS\n",
    "for sample, label in random.sample(list(test_data) , k=9):\n",
    "    test_samples.append(sample)\n",
    "    test_labels.append(label)\n",
    "    \n",
    "pred_probs = make_predictions(model ,test_samples , device)\n",
    "\n",
    "pred_classes = pred_probs.argmax(dim = 1)\n",
    "pred_classes\n",
    "\n",
    "# ACCURACY\n",
    "count = 0\n",
    "for i in range(len(pred_classes)):\n",
    "    count += 1 if pred_classes[i] == test_labels[i] else 0\n",
    "\n",
    "print(f\"Accuracy: {(count/len(pred_classes))*100}\\n\\n\")\n",
    "\n",
    "# PLOTTING PREDICTIONS\n",
    "plt.figure(figsize = (9,9))\n",
    "\n",
    "for i , sample in enumerate(test_samples):\n",
    "    plt.subplot(3,3, i+1)\n",
    "\n",
    "    plt.imshow(sample.squeeze() , cmap = \"gray\")\n",
    "\n",
    "    pred_label = class_names[pred_classes[i]]\n",
    "    \n",
    "    true_label = class_names[test_labels[i]]\n",
    "\n",
    "    title_next = f\"Pred Label: {pred_label} | Truth Label: {true_label}\"\n",
    "\n",
    "    if pred_label == true_label:\n",
    "        plt.title(title_next , fontsize = 8 , c = \"g\")\n",
    "    else:\n",
    "        plt.title(title_next , fontsize = 8 , c = \"r\")\n",
    "\n",
    "plt.axis(False)"
   ]
  },
  {
   "cell_type": "code",
   "execution_count": null,
   "metadata": {},
   "outputs": [],
   "source": []
  }
 ],
 "metadata": {
  "kernelspec": {
   "display_name": "torchenv",
   "language": "python",
   "name": "python3"
  },
  "language_info": {
   "codemirror_mode": {
    "name": "ipython",
    "version": 3
   },
   "file_extension": ".py",
   "mimetype": "text/x-python",
   "name": "python",
   "nbconvert_exporter": "python",
   "pygments_lexer": "ipython3",
   "version": "3.11.4"
  },
  "orig_nbformat": 4
 },
 "nbformat": 4,
 "nbformat_minor": 2
}
