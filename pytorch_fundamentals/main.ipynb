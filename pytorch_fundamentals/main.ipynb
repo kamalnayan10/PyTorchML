{
 "cells": [
  {
   "cell_type": "code",
   "execution_count": 5,
   "metadata": {},
   "outputs": [],
   "source": [
    "import torch"
   ]
  },
  {
   "cell_type": "code",
   "execution_count": 10,
   "metadata": {},
   "outputs": [
    {
     "name": "stdout",
     "output_type": "stream",
     "text": [
      "<class 'torch.Tensor'>\n",
      "7\n",
      "0\n"
     ]
    }
   ],
   "source": [
    "scalar = torch.tensor(7)\n",
    "print(type(scalar))\n",
    "print(scalar.item())\n",
    "print(scalar.ndim)"
   ]
  },
  {
   "cell_type": "code",
   "execution_count": 15,
   "metadata": {},
   "outputs": [
    {
     "name": "stdout",
     "output_type": "stream",
     "text": [
      "tensor([7, 7])\n",
      "1\n",
      "torch.Size([2])\n"
     ]
    }
   ],
   "source": [
    "vector = torch.tensor([7,7])\n",
    "print(vector)\n",
    "print(vector.ndim)\n",
    "print(vector.shape)"
   ]
  },
  {
   "cell_type": "code",
   "execution_count": 18,
   "metadata": {},
   "outputs": [
    {
     "name": "stdout",
     "output_type": "stream",
     "text": [
      "tensor([[7, 8, 5],\n",
      "        [1, 2, 4]])\n",
      "2\n",
      "torch.Size([2, 3])\n"
     ]
    }
   ],
   "source": [
    "matrix = torch.tensor([[7,8,5] , [1,2,4]])\n",
    "print(matrix)\n",
    "print(matrix.ndim)\n",
    "print(matrix.shape)"
   ]
  },
  {
   "cell_type": "code",
   "execution_count": 19,
   "metadata": {},
   "outputs": [
    {
     "name": "stdout",
     "output_type": "stream",
     "text": [
      "tensor([[[1, 2, 3],\n",
      "         [4, 5, 6],\n",
      "         [7, 8, 9]]])\n",
      "3\n",
      "torch.Size([1, 3, 3])\n"
     ]
    }
   ],
   "source": [
    "tensor = torch.tensor([[[1,2,3],[4,5,6],[7,8,9]]])\n",
    "print(tensor)\n",
    "print(tensor.ndim)\n",
    "print(tensor.shape)"
   ]
  },
  {
   "cell_type": "code",
   "execution_count": 29,
   "metadata": {},
   "outputs": [
    {
     "name": "stdout",
     "output_type": "stream",
     "text": [
      "tensor([[0.1754, 0.5700, 0.4949, 0.2551],\n",
      "        [0.2661, 0.8029, 0.8233, 0.7658],\n",
      "        [0.2057, 0.6925, 0.2846, 0.8876]])\n",
      "2\n"
     ]
    }
   ],
   "source": [
    "random_tensor = torch.rand(3,4)\n",
    "print(random_tensor)\n",
    "print(random_tensor.ndim)"
   ]
  },
  {
   "cell_type": "code",
   "execution_count": 33,
   "metadata": {},
   "outputs": [
    {
     "name": "stdout",
     "output_type": "stream",
     "text": [
      "tensor([[[0.4159, 0.2588, 0.9764],\n",
      "         [0.2280, 0.6349, 0.5270],\n",
      "         [0.5395, 0.8138, 0.5283],\n",
      "         ...,\n",
      "         [0.1800, 0.0440, 0.4868],\n",
      "         [0.3261, 0.7912, 0.4468],\n",
      "         [0.4264, 0.3453, 0.4834]],\n",
      "\n",
      "        [[0.3957, 0.5731, 0.8699],\n",
      "         [0.8431, 0.1646, 0.6333],\n",
      "         [0.6580, 0.6810, 0.3859],\n",
      "         ...,\n",
      "         [0.3961, 0.3483, 0.0548],\n",
      "         [0.8764, 0.7037, 0.4850],\n",
      "         [0.6936, 0.3752, 0.5011]],\n",
      "\n",
      "        [[0.0578, 0.5674, 0.9395],\n",
      "         [0.8870, 0.4995, 0.8182],\n",
      "         [0.7147, 0.0120, 0.0184],\n",
      "         ...,\n",
      "         [0.9792, 0.9677, 0.6654],\n",
      "         [0.1866, 0.4715, 0.1552],\n",
      "         [0.7101, 0.6224, 0.3397]],\n",
      "\n",
      "        ...,\n",
      "\n",
      "        [[0.3883, 0.2973, 0.1984],\n",
      "         [0.6261, 0.0897, 0.4702],\n",
      "         [0.7058, 0.8709, 0.5402],\n",
      "         ...,\n",
      "         [0.6888, 0.5931, 0.7585],\n",
      "         [0.7545, 0.1495, 0.4116],\n",
      "         [0.4885, 0.2133, 0.3949]],\n",
      "\n",
      "        [[0.5911, 0.4688, 0.8606],\n",
      "         [0.4303, 0.2298, 0.1899],\n",
      "         [0.5217, 0.5108, 0.7372],\n",
      "         ...,\n",
      "         [0.1308, 0.7405, 0.3575],\n",
      "         [0.9811, 0.5235, 0.4123],\n",
      "         [0.6353, 0.1118, 0.3035]],\n",
      "\n",
      "        [[0.8922, 0.4951, 0.9758],\n",
      "         [0.1128, 0.3264, 0.7500],\n",
      "         [0.8129, 0.3418, 0.3401],\n",
      "         ...,\n",
      "         [0.4810, 0.3988, 0.6088],\n",
      "         [0.3369, 0.9530, 0.1892],\n",
      "         [0.5584, 0.6073, 0.6555]]])\n"
     ]
    }
   ],
   "source": [
    "rand_img_tensor = torch.rand(size = (224,224,3))\n",
    "print(rand_img_tensor)"
   ]
  },
  {
   "cell_type": "code",
   "execution_count": 37,
   "metadata": {},
   "outputs": [
    {
     "data": {
      "text/plain": [
       "tensor([0., 0., 0., 0., 0., 0., 0., 0., 0., 0.])"
      ]
     },
     "execution_count": 37,
     "metadata": {},
     "output_type": "execute_result"
    }
   ],
   "source": [
    "torch.zeros(10)"
   ]
  },
  {
   "cell_type": "code",
   "execution_count": 38,
   "metadata": {},
   "outputs": [
    {
     "name": "stdout",
     "output_type": "stream",
     "text": [
      "tensor(14)\n"
     ]
    }
   ],
   "source": [
    "tensor1 = torch.tensor([1,2,3])\n",
    "\n",
    "print(torch.matmul(tensor1,tensor1))"
   ]
  },
  {
   "cell_type": "code",
   "execution_count": 47,
   "metadata": {},
   "outputs": [
    {
     "data": {
      "text/plain": [
       "(tensor([1, 2, 3]), device(type='cpu'))"
      ]
     },
     "execution_count": 47,
     "metadata": {},
     "output_type": "execute_result"
    }
   ],
   "source": [
    "device = \"cuda\" if torch.cuda.is_available() else \"cpu\"\n",
    "\n",
    "tensor = torch.tensor([1,2,3])\n",
    "tensor,tensor.device"
   ]
  },
  {
   "cell_type": "code",
   "execution_count": 50,
   "metadata": {},
   "outputs": [
    {
     "data": {
      "text/plain": [
       "tensor([1, 2, 3], device='cuda:0')"
      ]
     },
     "execution_count": 50,
     "metadata": {},
     "output_type": "execute_result"
    }
   ],
   "source": [
    "tensor_gpu = tensor.to(device)\n",
    "tensor_gpu"
   ]
  }
 ],
 "metadata": {
  "kernelspec": {
   "display_name": "torchenv",
   "language": "python",
   "name": "python3"
  },
  "language_info": {
   "codemirror_mode": {
    "name": "ipython",
    "version": 3
   },
   "file_extension": ".py",
   "mimetype": "text/x-python",
   "name": "python",
   "nbconvert_exporter": "python",
   "pygments_lexer": "ipython3",
   "version": "3.11.4"
  },
  "orig_nbformat": 4
 },
 "nbformat": 4,
 "nbformat_minor": 2
}
